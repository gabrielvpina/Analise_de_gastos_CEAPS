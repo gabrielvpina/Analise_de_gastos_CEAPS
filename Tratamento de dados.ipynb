{
 "cells": [
  {
   "cell_type": "code",
   "execution_count": 9,
   "id": "54a5875f",
   "metadata": {},
   "outputs": [],
   "source": [
    "import pandas as pd\n",
    "import sqlite3"
   ]
  },
  {
   "cell_type": "code",
   "execution_count": 13,
   "id": "39a0bf41",
   "metadata": {},
   "outputs": [],
   "source": [
    "ceaps_2018 = pd.read_csv('dados/CEAPS_2018.csv')\n",
    "ceaps_2019 = pd.read_csv('dados/CEAPS_2019.csv')\n",
    "ceaps_2020 = pd.read_csv('dados/CEAPS_2020.csv')\n",
    "ceaps_2021 = pd.read_csv('dados/CEAPS_2021.csv')\n",
    "ceaps_2022 = pd.read_csv('dados/CEAPS_2022.csv')"
   ]
  },
  {
   "cell_type": "code",
   "execution_count": 5,
   "id": "ca47b2f2",
   "metadata": {
    "scrolled": true
   },
   "outputs": [
    {
     "name": "stdout",
     "output_type": "stream",
     "text": [
      " \n"
     ]
    }
   ],
   "source": [
    "# instalando bibliotecas para a manipulação dos dados através de SQL\n",
    "\n",
    "!pip install ipython-sql"
   ]
  },
  {
   "cell_type": "code",
   "execution_count": 69,
   "id": "047721a3",
   "metadata": {},
   "outputs": [],
   "source": [
    "# usando sqlite3 para criar uma conexão\n",
    "\n",
    "cnn = sqlite3.connect('jupyter_ceaps.db')"
   ]
  },
  {
   "cell_type": "code",
   "execution_count": 70,
   "id": "cb15223c",
   "metadata": {},
   "outputs": [
    {
     "data": {
      "text/plain": [
       "11529"
      ]
     },
     "execution_count": 70,
     "metadata": {},
     "output_type": "execute_result"
    }
   ],
   "source": [
    "ceaps_2018.to_sql('db_2018',cnn)\n",
    "ceaps_2019.to_sql('db_2019',cnn)\n",
    "ceaps_2020.to_sql('db_2020',cnn)\n",
    "ceaps_2021.to_sql('db_2021',cnn)\n",
    "ceaps_2022.to_sql('db_2022',cnn)"
   ]
  },
  {
   "cell_type": "code",
   "execution_count": 71,
   "id": "704c71c7",
   "metadata": {},
   "outputs": [
    {
     "name": "stdout",
     "output_type": "stream",
     "text": [
      "The sql extension is already loaded. To reload it, use:\n",
      "  %reload_ext sql\n"
     ]
    }
   ],
   "source": [
    "# carregar módulo do sql para o ipython\n",
    "\n",
    "%load_ext sql\n",
    "\n",
    "%sql sqlite:///jupyter_ceaps.db"
   ]
  },
  {
   "cell_type": "markdown",
   "id": "504fc914",
   "metadata": {},
   "source": [
    "## Manipulando dados em SQL"
   ]
  },
  {
   "cell_type": "code",
   "execution_count": 72,
   "id": "68880c98",
   "metadata": {},
   "outputs": [
    {
     "name": "stdout",
     "output_type": "stream",
     "text": [
      " * sqlite:///jupyter_ceaps.db\n",
      "Done.\n"
     ]
    },
    {
     "data": {
      "text/html": [
       "<table>\n",
       "    <tr>\n",
       "        <th>SENADOR</th>\n",
       "        <th>GASTOS</th>\n",
       "    </tr>\n",
       "    <tr>\n",
       "        <td>ACIR GURGACZ</td>\n",
       "        <td>9917.0</td>\n",
       "    </tr>\n",
       "    <tr>\n",
       "        <td>AIRTON SANDOVAL</td>\n",
       "        <td>67113.0</td>\n",
       "    </tr>\n",
       "    <tr>\n",
       "        <td>ALVARO DIAS</td>\n",
       "        <td>7732.0</td>\n",
       "    </tr>\n",
       "    <tr>\n",
       "        <td>ANA AMÉLIA</td>\n",
       "        <td>93892.0</td>\n",
       "    </tr>\n",
       "    <tr>\n",
       "        <td>ANTONIO ANASTASIA</td>\n",
       "        <td>81273.0</td>\n",
       "    </tr>\n",
       "    <tr>\n",
       "        <td>ANTÔNIO CARLOS VALADARES</td>\n",
       "        <td>30467.0</td>\n",
       "    </tr>\n",
       "    <tr>\n",
       "        <td>ARMANDO MONTEIRO</td>\n",
       "        <td>131992.0</td>\n",
       "    </tr>\n",
       "    <tr>\n",
       "        <td>ATAÍDES OLIVEIRA</td>\n",
       "        <td>38154.0</td>\n",
       "    </tr>\n",
       "    <tr>\n",
       "        <td>AÉCIO NEVES</td>\n",
       "        <td>50334.0</td>\n",
       "    </tr>\n",
       "    <tr>\n",
       "        <td>BENEDITO DE LIRA</td>\n",
       "        <td>39589.0</td>\n",
       "    </tr>\n",
       "    <tr>\n",
       "        <td>CIDINHO SANTOS</td>\n",
       "        <td>39345.0</td>\n",
       "    </tr>\n",
       "    <tr>\n",
       "        <td>CIRO NOGUEIRA</td>\n",
       "        <td>41165.0</td>\n",
       "    </tr>\n",
       "    <tr>\n",
       "        <td>CRISTOVAM BUARQUE</td>\n",
       "        <td>8424.0</td>\n",
       "    </tr>\n",
       "    <tr>\n",
       "        <td>CÁSSIO CUNHA LIMA</td>\n",
       "        <td>64546.0</td>\n",
       "    </tr>\n",
       "    <tr>\n",
       "        <td>DALIRIO BEBER</td>\n",
       "        <td>71609.0</td>\n",
       "    </tr>\n",
       "    <tr>\n",
       "        <td>DAVI ALCOLUMBRE</td>\n",
       "        <td>27668.0</td>\n",
       "    </tr>\n",
       "    <tr>\n",
       "        <td>DÁRIO BERGER</td>\n",
       "        <td>74294.0</td>\n",
       "    </tr>\n",
       "    <tr>\n",
       "        <td>EDISON LOBÃO</td>\n",
       "        <td>2574.0</td>\n",
       "    </tr>\n",
       "    <tr>\n",
       "        <td>EDUARDO AMORIM</td>\n",
       "        <td>101453.0</td>\n",
       "    </tr>\n",
       "    <tr>\n",
       "        <td>EDUARDO BRAGA</td>\n",
       "        <td>8220.0</td>\n",
       "    </tr>\n",
       "    <tr>\n",
       "        <td>EDUARDO LOPES</td>\n",
       "        <td>171056.0</td>\n",
       "    </tr>\n",
       "    <tr>\n",
       "        <td>ELBER BATALHA</td>\n",
       "        <td>8278.0</td>\n",
       "    </tr>\n",
       "    <tr>\n",
       "        <td>ELMANO FÉRRER</td>\n",
       "        <td>41180.0</td>\n",
       "    </tr>\n",
       "    <tr>\n",
       "        <td>FERNANDO BEZERRA COELHO</td>\n",
       "        <td>129131.0</td>\n",
       "    </tr>\n",
       "    <tr>\n",
       "        <td>FERNANDO COLLOR</td>\n",
       "        <td>436.0</td>\n",
       "    </tr>\n",
       "    <tr>\n",
       "        <td>FLEXA RIBEIRO</td>\n",
       "        <td>63477.0</td>\n",
       "    </tr>\n",
       "    <tr>\n",
       "        <td>FÁTIMA BEZERRA</td>\n",
       "        <td>96314.0</td>\n",
       "    </tr>\n",
       "    <tr>\n",
       "        <td>GARIBALDI ALVES FILHO</td>\n",
       "        <td>58347.0</td>\n",
       "    </tr>\n",
       "    <tr>\n",
       "        <td>GIVAGO TENÓRIO</td>\n",
       "        <td>13692.0</td>\n",
       "    </tr>\n",
       "    <tr>\n",
       "        <td>GLADSON CAMELI</td>\n",
       "        <td>44951.0</td>\n",
       "    </tr>\n",
       "    <tr>\n",
       "        <td>GLEISI HOFFMANN</td>\n",
       "        <td>116026.0</td>\n",
       "    </tr>\n",
       "    <tr>\n",
       "        <td>GUARACY SILVEIRA</td>\n",
       "        <td>15593.0</td>\n",
       "    </tr>\n",
       "    <tr>\n",
       "        <td>HUMBERTO COSTA</td>\n",
       "        <td>111989.0</td>\n",
       "    </tr>\n",
       "    <tr>\n",
       "        <td>HÉLIO JOSÉ</td>\n",
       "        <td>28515.0</td>\n",
       "    </tr>\n",
       "    <tr>\n",
       "        <td>IONE GUIMARÃES</td>\n",
       "        <td>10168.0</td>\n",
       "    </tr>\n",
       "    <tr>\n",
       "        <td>IVO CASSOL</td>\n",
       "        <td>27975.0</td>\n",
       "    </tr>\n",
       "    <tr>\n",
       "        <td>JADER BARBALHO</td>\n",
       "        <td>2370.0</td>\n",
       "    </tr>\n",
       "    <tr>\n",
       "        <td>JORGE VIANA</td>\n",
       "        <td>94948.0</td>\n",
       "    </tr>\n",
       "    <tr>\n",
       "        <td>JOSÉ AGRIPINO</td>\n",
       "        <td>34847.0</td>\n",
       "    </tr>\n",
       "    <tr>\n",
       "        <td>JOSÉ AMAURI</td>\n",
       "        <td>13335.0</td>\n",
       "    </tr>\n",
       "    <tr>\n",
       "        <td>JOSÉ MARANHÃO</td>\n",
       "        <td>38083.0</td>\n",
       "    </tr>\n",
       "    <tr>\n",
       "        <td>JOSÉ MEDEIROS</td>\n",
       "        <td>143966.0</td>\n",
       "    </tr>\n",
       "    <tr>\n",
       "        <td>JOSÉ PIMENTEL</td>\n",
       "        <td>93948.0</td>\n",
       "    </tr>\n",
       "    <tr>\n",
       "        <td>JOSÉ SERRA</td>\n",
       "        <td>156333.0</td>\n",
       "    </tr>\n",
       "    <tr>\n",
       "        <td>JOÃO ALBERTO SOUZA</td>\n",
       "        <td>22043.0</td>\n",
       "    </tr>\n",
       "    <tr>\n",
       "        <td>JOÃO CAPIBERIBE</td>\n",
       "        <td>45095.0</td>\n",
       "    </tr>\n",
       "    <tr>\n",
       "        <td>KÁTIA ABREU</td>\n",
       "        <td>12991.0</td>\n",
       "    </tr>\n",
       "    <tr>\n",
       "        <td>LASIER MARTINS</td>\n",
       "        <td>71742.0</td>\n",
       "    </tr>\n",
       "    <tr>\n",
       "        <td>LINDBERGH FARIAS</td>\n",
       "        <td>66295.0</td>\n",
       "    </tr>\n",
       "    <tr>\n",
       "        <td>LÍDICE DA MATA</td>\n",
       "        <td>124131.0</td>\n",
       "    </tr>\n",
       "    <tr>\n",
       "        <td>LÚCIA VÂNIA</td>\n",
       "        <td>38017.0</td>\n",
       "    </tr>\n",
       "    <tr>\n",
       "        <td>MAGNO MALTA</td>\n",
       "        <td>73438.0</td>\n",
       "    </tr>\n",
       "    <tr>\n",
       "        <td>MARIA DO CARMO ALVES</td>\n",
       "        <td>21671.0</td>\n",
       "    </tr>\n",
       "    <tr>\n",
       "        <td>MARTA SUPLICY</td>\n",
       "        <td>79059.0</td>\n",
       "    </tr>\n",
       "    <tr>\n",
       "        <td>OMAR AZIZ</td>\n",
       "        <td>484.0</td>\n",
       "    </tr>\n",
       "    <tr>\n",
       "        <td>OTTO ALENCAR</td>\n",
       "        <td>40668.0</td>\n",
       "    </tr>\n",
       "    <tr>\n",
       "        <td>PASTOR BEL</td>\n",
       "        <td>21913.0</td>\n",
       "    </tr>\n",
       "    <tr>\n",
       "        <td>PAULO BAUER</td>\n",
       "        <td>166204.0</td>\n",
       "    </tr>\n",
       "    <tr>\n",
       "        <td>PAULO PAIM</td>\n",
       "        <td>69745.0</td>\n",
       "    </tr>\n",
       "    <tr>\n",
       "        <td>PAULO ROCHA</td>\n",
       "        <td>75761.0</td>\n",
       "    </tr>\n",
       "    <tr>\n",
       "        <td>PEDRO CHAVES DOS SANTOS FILHO</td>\n",
       "        <td>141979.0</td>\n",
       "    </tr>\n",
       "    <tr>\n",
       "        <td>RAIMUNDO LIRA</td>\n",
       "        <td>5355.0</td>\n",
       "    </tr>\n",
       "    <tr>\n",
       "        <td>RANDOLFE RODRIGUES</td>\n",
       "        <td>41580.0</td>\n",
       "    </tr>\n",
       "    <tr>\n",
       "        <td>REDITARIO CASSOL</td>\n",
       "        <td>8653.0</td>\n",
       "    </tr>\n",
       "    <tr>\n",
       "        <td>REGINA SOUSA</td>\n",
       "        <td>24882.0</td>\n",
       "    </tr>\n",
       "    <tr>\n",
       "        <td>RENAN CALHEIROS</td>\n",
       "        <td>27437.0</td>\n",
       "    </tr>\n",
       "    <tr>\n",
       "        <td>RICARDO FERRAÇO</td>\n",
       "        <td>71533.0</td>\n",
       "    </tr>\n",
       "    <tr>\n",
       "        <td>ROBERTO MUNIZ</td>\n",
       "        <td>83168.0</td>\n",
       "    </tr>\n",
       "    <tr>\n",
       "        <td>ROBERTO REQUIÃO</td>\n",
       "        <td>95181.0</td>\n",
       "    </tr>\n",
       "    <tr>\n",
       "        <td>ROBERTO ROCHA</td>\n",
       "        <td>43285.0</td>\n",
       "    </tr>\n",
       "    <tr>\n",
       "        <td>RODRIGUES PALMA</td>\n",
       "        <td>20962.0</td>\n",
       "    </tr>\n",
       "    <tr>\n",
       "        <td>ROMERO JUCÁ</td>\n",
       "        <td>55467.0</td>\n",
       "    </tr>\n",
       "    <tr>\n",
       "        <td>ROMÁRIO</td>\n",
       "        <td>61460.0</td>\n",
       "    </tr>\n",
       "    <tr>\n",
       "        <td>RONALDO CAIADO</td>\n",
       "        <td>112724.0</td>\n",
       "    </tr>\n",
       "    <tr>\n",
       "        <td>ROSE DE FREITAS</td>\n",
       "        <td>35180.0</td>\n",
       "    </tr>\n",
       "    <tr>\n",
       "        <td>RUDSON LEITE</td>\n",
       "        <td>16679.0</td>\n",
       "    </tr>\n",
       "    <tr>\n",
       "        <td>SIMONE TEBET</td>\n",
       "        <td>62145.0</td>\n",
       "    </tr>\n",
       "    <tr>\n",
       "        <td>SÉRGIO DE CASTRO</td>\n",
       "        <td>18891.0</td>\n",
       "    </tr>\n",
       "    <tr>\n",
       "        <td>SÉRGIO PETECÃO</td>\n",
       "        <td>9347.0</td>\n",
       "    </tr>\n",
       "    <tr>\n",
       "        <td>TASSO JEREISSATI</td>\n",
       "        <td>8552.0</td>\n",
       "    </tr>\n",
       "    <tr>\n",
       "        <td>TELMÁRIO MOTA</td>\n",
       "        <td>53088.0</td>\n",
       "    </tr>\n",
       "    <tr>\n",
       "        <td>VALDIR RAUPP</td>\n",
       "        <td>37803.0</td>\n",
       "    </tr>\n",
       "    <tr>\n",
       "        <td>VANESSA GRAZZIOTIN</td>\n",
       "        <td>87096.0</td>\n",
       "    </tr>\n",
       "    <tr>\n",
       "        <td>VICENTINHO ALVES</td>\n",
       "        <td>11917.0</td>\n",
       "    </tr>\n",
       "    <tr>\n",
       "        <td>WALDEMIR MOKA</td>\n",
       "        <td>91229.0</td>\n",
       "    </tr>\n",
       "    <tr>\n",
       "        <td>WALTER PINHEIRO</td>\n",
       "        <td>9522.0</td>\n",
       "    </tr>\n",
       "    <tr>\n",
       "        <td>WELLINGTON FAGUNDES</td>\n",
       "        <td>145133.0</td>\n",
       "    </tr>\n",
       "    <tr>\n",
       "        <td>WILDER MORAIS</td>\n",
       "        <td>35972.0</td>\n",
       "    </tr>\n",
       "    <tr>\n",
       "        <td>ZEZÉ PERRELLA</td>\n",
       "        <td>68544.0</td>\n",
       "    </tr>\n",
       "    <tr>\n",
       "        <td>ZÉ SANTANA</td>\n",
       "        <td>624.0</td>\n",
       "    </tr>\n",
       "    <tr>\n",
       "        <td>ÂNGELA PORTELA</td>\n",
       "        <td>37488.0</td>\n",
       "    </tr>\n",
       "</table>"
      ],
      "text/plain": [
       "[('ACIR GURGACZ', 9917.0),\n",
       " ('AIRTON SANDOVAL', 67113.0),\n",
       " ('ALVARO DIAS', 7732.0),\n",
       " ('ANA AMÉLIA', 93892.0),\n",
       " ('ANTONIO ANASTASIA', 81273.0),\n",
       " ('ANTÔNIO CARLOS VALADARES', 30467.0),\n",
       " ('ARMANDO MONTEIRO', 131992.0),\n",
       " ('ATAÍDES OLIVEIRA', 38154.0),\n",
       " ('AÉCIO NEVES', 50334.0),\n",
       " ('BENEDITO DE LIRA', 39589.0),\n",
       " ('CIDINHO SANTOS', 39345.0),\n",
       " ('CIRO NOGUEIRA', 41165.0),\n",
       " ('CRISTOVAM BUARQUE', 8424.0),\n",
       " ('CÁSSIO CUNHA LIMA', 64546.0),\n",
       " ('DALIRIO BEBER', 71609.0),\n",
       " ('DAVI ALCOLUMBRE', 27668.0),\n",
       " ('DÁRIO BERGER', 74294.0),\n",
       " ('EDISON LOBÃO', 2574.0),\n",
       " ('EDUARDO AMORIM', 101453.0),\n",
       " ('EDUARDO BRAGA', 8220.0),\n",
       " ('EDUARDO LOPES', 171056.0),\n",
       " ('ELBER BATALHA', 8278.0),\n",
       " ('ELMANO FÉRRER', 41180.0),\n",
       " ('FERNANDO BEZERRA COELHO', 129131.0),\n",
       " ('FERNANDO COLLOR', 436.0),\n",
       " ('FLEXA RIBEIRO', 63477.0),\n",
       " ('FÁTIMA BEZERRA', 96314.0),\n",
       " ('GARIBALDI ALVES FILHO', 58347.0),\n",
       " ('GIVAGO TENÓRIO', 13692.0),\n",
       " ('GLADSON CAMELI', 44951.0),\n",
       " ('GLEISI HOFFMANN', 116026.0),\n",
       " ('GUARACY SILVEIRA', 15593.0),\n",
       " ('HUMBERTO COSTA', 111989.0),\n",
       " ('HÉLIO JOSÉ', 28515.0),\n",
       " ('IONE GUIMARÃES', 10168.0),\n",
       " ('IVO CASSOL', 27975.0),\n",
       " ('JADER BARBALHO', 2370.0),\n",
       " ('JORGE VIANA', 94948.0),\n",
       " ('JOSÉ AGRIPINO', 34847.0),\n",
       " ('JOSÉ AMAURI', 13335.0),\n",
       " ('JOSÉ MARANHÃO', 38083.0),\n",
       " ('JOSÉ MEDEIROS', 143966.0),\n",
       " ('JOSÉ PIMENTEL', 93948.0),\n",
       " ('JOSÉ SERRA', 156333.0),\n",
       " ('JOÃO ALBERTO SOUZA', 22043.0),\n",
       " ('JOÃO CAPIBERIBE', 45095.0),\n",
       " ('KÁTIA ABREU', 12991.0),\n",
       " ('LASIER MARTINS', 71742.0),\n",
       " ('LINDBERGH FARIAS', 66295.0),\n",
       " ('LÍDICE DA MATA', 124131.0),\n",
       " ('LÚCIA VÂNIA', 38017.0),\n",
       " ('MAGNO MALTA', 73438.0),\n",
       " ('MARIA DO CARMO ALVES', 21671.0),\n",
       " ('MARTA SUPLICY', 79059.0),\n",
       " ('OMAR AZIZ', 484.0),\n",
       " ('OTTO ALENCAR', 40668.0),\n",
       " ('PASTOR BEL', 21913.0),\n",
       " ('PAULO BAUER', 166204.0),\n",
       " ('PAULO PAIM', 69745.0),\n",
       " ('PAULO ROCHA', 75761.0),\n",
       " ('PEDRO CHAVES DOS SANTOS FILHO', 141979.0),\n",
       " ('RAIMUNDO LIRA', 5355.0),\n",
       " ('RANDOLFE RODRIGUES', 41580.0),\n",
       " ('REDITARIO CASSOL', 8653.0),\n",
       " ('REGINA SOUSA', 24882.0),\n",
       " ('RENAN CALHEIROS', 27437.0),\n",
       " ('RICARDO FERRAÇO', 71533.0),\n",
       " ('ROBERTO MUNIZ', 83168.0),\n",
       " ('ROBERTO REQUIÃO', 95181.0),\n",
       " ('ROBERTO ROCHA', 43285.0),\n",
       " ('RODRIGUES PALMA', 20962.0),\n",
       " ('ROMERO JUCÁ', 55467.0),\n",
       " ('ROMÁRIO', 61460.0),\n",
       " ('RONALDO CAIADO', 112724.0),\n",
       " ('ROSE DE FREITAS', 35180.0),\n",
       " ('RUDSON LEITE', 16679.0),\n",
       " ('SIMONE TEBET', 62145.0),\n",
       " ('SÉRGIO DE CASTRO', 18891.0),\n",
       " ('SÉRGIO PETECÃO', 9347.0),\n",
       " ('TASSO JEREISSATI', 8552.0),\n",
       " ('TELMÁRIO MOTA', 53088.0),\n",
       " ('VALDIR RAUPP', 37803.0),\n",
       " ('VANESSA GRAZZIOTIN', 87096.0),\n",
       " ('VICENTINHO ALVES', 11917.0),\n",
       " ('WALDEMIR MOKA', 91229.0),\n",
       " ('WALTER PINHEIRO', 9522.0),\n",
       " ('WELLINGTON FAGUNDES', 145133.0),\n",
       " ('WILDER MORAIS', 35972.0),\n",
       " ('ZEZÉ PERRELLA', 68544.0),\n",
       " ('ZÉ SANTANA', 624.0),\n",
       " ('ÂNGELA PORTELA', 37488.0)]"
      ]
     },
     "execution_count": 72,
     "metadata": {},
     "output_type": "execute_result"
    }
   ],
   "source": [
    "%%sql\n",
    "\n",
    "SELECT SENADOR, ROUND(SUM(VALOR_REEMBOLSADO)) AS GASTOS\n",
    "FROM db_2018 GROUP BY SENADOR\n"
   ]
  },
  {
   "cell_type": "code",
   "execution_count": 73,
   "id": "810a5402",
   "metadata": {},
   "outputs": [
    {
     "data": {
      "text/html": [
       "<div>\n",
       "<style scoped>\n",
       "    .dataframe tbody tr th:only-of-type {\n",
       "        vertical-align: middle;\n",
       "    }\n",
       "\n",
       "    .dataframe tbody tr th {\n",
       "        vertical-align: top;\n",
       "    }\n",
       "\n",
       "    .dataframe thead th {\n",
       "        text-align: right;\n",
       "    }\n",
       "</style>\n",
       "<table border=\"1\" class=\"dataframe\">\n",
       "  <thead>\n",
       "    <tr style=\"text-align: right;\">\n",
       "      <th></th>\n",
       "      <th>SENADOR</th>\n",
       "      <th>GASTOS</th>\n",
       "    </tr>\n",
       "  </thead>\n",
       "  <tbody>\n",
       "    <tr>\n",
       "      <th>0</th>\n",
       "      <td>FERNANDO COLLOR</td>\n",
       "      <td>436.0</td>\n",
       "    </tr>\n",
       "    <tr>\n",
       "      <th>1</th>\n",
       "      <td>OMAR AZIZ</td>\n",
       "      <td>484.0</td>\n",
       "    </tr>\n",
       "    <tr>\n",
       "      <th>2</th>\n",
       "      <td>ZÉ SANTANA</td>\n",
       "      <td>624.0</td>\n",
       "    </tr>\n",
       "    <tr>\n",
       "      <th>3</th>\n",
       "      <td>JADER BARBALHO</td>\n",
       "      <td>2370.0</td>\n",
       "    </tr>\n",
       "    <tr>\n",
       "      <th>4</th>\n",
       "      <td>EDISON LOBÃO</td>\n",
       "      <td>2574.0</td>\n",
       "    </tr>\n",
       "    <tr>\n",
       "      <th>5</th>\n",
       "      <td>RAIMUNDO LIRA</td>\n",
       "      <td>5355.0</td>\n",
       "    </tr>\n",
       "    <tr>\n",
       "      <th>6</th>\n",
       "      <td>ALVARO DIAS</td>\n",
       "      <td>7732.0</td>\n",
       "    </tr>\n",
       "    <tr>\n",
       "      <th>7</th>\n",
       "      <td>EDUARDO BRAGA</td>\n",
       "      <td>8220.0</td>\n",
       "    </tr>\n",
       "    <tr>\n",
       "      <th>8</th>\n",
       "      <td>ELBER BATALHA</td>\n",
       "      <td>8278.0</td>\n",
       "    </tr>\n",
       "    <tr>\n",
       "      <th>9</th>\n",
       "      <td>CRISTOVAM BUARQUE</td>\n",
       "      <td>8424.0</td>\n",
       "    </tr>\n",
       "    <tr>\n",
       "      <th>10</th>\n",
       "      <td>TASSO JEREISSATI</td>\n",
       "      <td>8552.0</td>\n",
       "    </tr>\n",
       "    <tr>\n",
       "      <th>11</th>\n",
       "      <td>REDITARIO CASSOL</td>\n",
       "      <td>8653.0</td>\n",
       "    </tr>\n",
       "    <tr>\n",
       "      <th>12</th>\n",
       "      <td>SÉRGIO PETECÃO</td>\n",
       "      <td>9347.0</td>\n",
       "    </tr>\n",
       "    <tr>\n",
       "      <th>13</th>\n",
       "      <td>WALTER PINHEIRO</td>\n",
       "      <td>9522.0</td>\n",
       "    </tr>\n",
       "    <tr>\n",
       "      <th>14</th>\n",
       "      <td>ACIR GURGACZ</td>\n",
       "      <td>9917.0</td>\n",
       "    </tr>\n",
       "    <tr>\n",
       "      <th>15</th>\n",
       "      <td>IONE GUIMARÃES</td>\n",
       "      <td>10168.0</td>\n",
       "    </tr>\n",
       "    <tr>\n",
       "      <th>16</th>\n",
       "      <td>VICENTINHO ALVES</td>\n",
       "      <td>11917.0</td>\n",
       "    </tr>\n",
       "    <tr>\n",
       "      <th>17</th>\n",
       "      <td>KÁTIA ABREU</td>\n",
       "      <td>12991.0</td>\n",
       "    </tr>\n",
       "    <tr>\n",
       "      <th>18</th>\n",
       "      <td>JOSÉ AMAURI</td>\n",
       "      <td>13335.0</td>\n",
       "    </tr>\n",
       "    <tr>\n",
       "      <th>19</th>\n",
       "      <td>GIVAGO TENÓRIO</td>\n",
       "      <td>13692.0</td>\n",
       "    </tr>\n",
       "  </tbody>\n",
       "</table>\n",
       "</div>"
      ],
      "text/plain": [
       "              SENADOR   GASTOS\n",
       "0     FERNANDO COLLOR    436.0\n",
       "1           OMAR AZIZ    484.0\n",
       "2          ZÉ SANTANA    624.0\n",
       "3      JADER BARBALHO   2370.0\n",
       "4        EDISON LOBÃO   2574.0\n",
       "5       RAIMUNDO LIRA   5355.0\n",
       "6         ALVARO DIAS   7732.0\n",
       "7       EDUARDO BRAGA   8220.0\n",
       "8       ELBER BATALHA   8278.0\n",
       "9   CRISTOVAM BUARQUE   8424.0\n",
       "10   TASSO JEREISSATI   8552.0\n",
       "11   REDITARIO CASSOL   8653.0\n",
       "12     SÉRGIO PETECÃO   9347.0\n",
       "13    WALTER PINHEIRO   9522.0\n",
       "14       ACIR GURGACZ   9917.0\n",
       "15     IONE GUIMARÃES  10168.0\n",
       "16   VICENTINHO ALVES  11917.0\n",
       "17        KÁTIA ABREU  12991.0\n",
       "18        JOSÉ AMAURI  13335.0\n",
       "19     GIVAGO TENÓRIO  13692.0"
      ]
     },
     "execution_count": 73,
     "metadata": {},
     "output_type": "execute_result"
    }
   ],
   "source": [
    "# Transofrmando dados em dataframe\n",
    "\n",
    "df = pd.read_sql_query(\"SELECT SENADOR, ROUND(SUM(VALOR_REEMBOLSADO)) AS GASTOS FROM db_2018 GROUP BY SENADOR ORDER BY GASTOS\", cnn)\n",
    "df.head(20)"
   ]
  },
  {
   "cell_type": "code",
   "execution_count": 76,
   "id": "47a3a65c",
   "metadata": {},
   "outputs": [
    {
     "data": {
      "application/vnd.plotly.v1+json": {
       "config": {
        "plotlyServerURL": "https://plot.ly"
       },
       "data": [
        {
         "alignmentgroup": "True",
         "cliponaxis": false,
         "hovertemplate": "SENADOR=%{x}<br>GASTOS=%{y}<extra></extra>",
         "legendgroup": "",
         "marker": {
          "color": "#636efa",
          "pattern": {
           "shape": ""
          }
         },
         "name": "",
         "offsetgroup": "",
         "orientation": "v",
         "showlegend": false,
         "textangle": 0,
         "textfont": {
          "size": 12
         },
         "textposition": "outside",
         "texttemplate": "%{y:.2s}",
         "type": "bar",
         "x": [
          "VANESSA GRAZZIOTIN",
          "WALDEMIR MOKA",
          "ANA AMÉLIA",
          "JOSÉ PIMENTEL",
          "JORGE VIANA",
          "ROBERTO REQUIÃO",
          "FÁTIMA BEZERRA",
          "EDUARDO AMORIM",
          "HUMBERTO COSTA",
          "RONALDO CAIADO",
          "GLEISI HOFFMANN",
          "LÍDICE DA MATA",
          "FERNANDO BEZERRA COELHO",
          "ARMANDO MONTEIRO",
          "PEDRO CHAVES DOS SANTOS FILHO",
          "JOSÉ MEDEIROS",
          "WELLINGTON FAGUNDES",
          "JOSÉ SERRA",
          "PAULO BAUER",
          "EDUARDO LOPES"
         ],
         "xaxis": "x",
         "y": [
          87096,
          91229,
          93892,
          93948,
          94948,
          95181,
          96314,
          101453,
          111989,
          112724,
          116026,
          124131,
          129131,
          131992,
          141979,
          143966,
          145133,
          156333,
          166204,
          171056
         ],
         "yaxis": "y"
        }
       ],
       "layout": {
        "barmode": "relative",
        "legend": {
         "tracegroupgap": 0
        },
        "template": {
         "data": {
          "bar": [
           {
            "error_x": {
             "color": "#2a3f5f"
            },
            "error_y": {
             "color": "#2a3f5f"
            },
            "marker": {
             "line": {
              "color": "#E5ECF6",
              "width": 0.5
             },
             "pattern": {
              "fillmode": "overlay",
              "size": 10,
              "solidity": 0.2
             }
            },
            "type": "bar"
           }
          ],
          "barpolar": [
           {
            "marker": {
             "line": {
              "color": "#E5ECF6",
              "width": 0.5
             },
             "pattern": {
              "fillmode": "overlay",
              "size": 10,
              "solidity": 0.2
             }
            },
            "type": "barpolar"
           }
          ],
          "carpet": [
           {
            "aaxis": {
             "endlinecolor": "#2a3f5f",
             "gridcolor": "white",
             "linecolor": "white",
             "minorgridcolor": "white",
             "startlinecolor": "#2a3f5f"
            },
            "baxis": {
             "endlinecolor": "#2a3f5f",
             "gridcolor": "white",
             "linecolor": "white",
             "minorgridcolor": "white",
             "startlinecolor": "#2a3f5f"
            },
            "type": "carpet"
           }
          ],
          "choropleth": [
           {
            "colorbar": {
             "outlinewidth": 0,
             "ticks": ""
            },
            "type": "choropleth"
           }
          ],
          "contour": [
           {
            "colorbar": {
             "outlinewidth": 0,
             "ticks": ""
            },
            "colorscale": [
             [
              0,
              "#0d0887"
             ],
             [
              0.1111111111111111,
              "#46039f"
             ],
             [
              0.2222222222222222,
              "#7201a8"
             ],
             [
              0.3333333333333333,
              "#9c179e"
             ],
             [
              0.4444444444444444,
              "#bd3786"
             ],
             [
              0.5555555555555556,
              "#d8576b"
             ],
             [
              0.6666666666666666,
              "#ed7953"
             ],
             [
              0.7777777777777778,
              "#fb9f3a"
             ],
             [
              0.8888888888888888,
              "#fdca26"
             ],
             [
              1,
              "#f0f921"
             ]
            ],
            "type": "contour"
           }
          ],
          "contourcarpet": [
           {
            "colorbar": {
             "outlinewidth": 0,
             "ticks": ""
            },
            "type": "contourcarpet"
           }
          ],
          "heatmap": [
           {
            "colorbar": {
             "outlinewidth": 0,
             "ticks": ""
            },
            "colorscale": [
             [
              0,
              "#0d0887"
             ],
             [
              0.1111111111111111,
              "#46039f"
             ],
             [
              0.2222222222222222,
              "#7201a8"
             ],
             [
              0.3333333333333333,
              "#9c179e"
             ],
             [
              0.4444444444444444,
              "#bd3786"
             ],
             [
              0.5555555555555556,
              "#d8576b"
             ],
             [
              0.6666666666666666,
              "#ed7953"
             ],
             [
              0.7777777777777778,
              "#fb9f3a"
             ],
             [
              0.8888888888888888,
              "#fdca26"
             ],
             [
              1,
              "#f0f921"
             ]
            ],
            "type": "heatmap"
           }
          ],
          "heatmapgl": [
           {
            "colorbar": {
             "outlinewidth": 0,
             "ticks": ""
            },
            "colorscale": [
             [
              0,
              "#0d0887"
             ],
             [
              0.1111111111111111,
              "#46039f"
             ],
             [
              0.2222222222222222,
              "#7201a8"
             ],
             [
              0.3333333333333333,
              "#9c179e"
             ],
             [
              0.4444444444444444,
              "#bd3786"
             ],
             [
              0.5555555555555556,
              "#d8576b"
             ],
             [
              0.6666666666666666,
              "#ed7953"
             ],
             [
              0.7777777777777778,
              "#fb9f3a"
             ],
             [
              0.8888888888888888,
              "#fdca26"
             ],
             [
              1,
              "#f0f921"
             ]
            ],
            "type": "heatmapgl"
           }
          ],
          "histogram": [
           {
            "marker": {
             "pattern": {
              "fillmode": "overlay",
              "size": 10,
              "solidity": 0.2
             }
            },
            "type": "histogram"
           }
          ],
          "histogram2d": [
           {
            "colorbar": {
             "outlinewidth": 0,
             "ticks": ""
            },
            "colorscale": [
             [
              0,
              "#0d0887"
             ],
             [
              0.1111111111111111,
              "#46039f"
             ],
             [
              0.2222222222222222,
              "#7201a8"
             ],
             [
              0.3333333333333333,
              "#9c179e"
             ],
             [
              0.4444444444444444,
              "#bd3786"
             ],
             [
              0.5555555555555556,
              "#d8576b"
             ],
             [
              0.6666666666666666,
              "#ed7953"
             ],
             [
              0.7777777777777778,
              "#fb9f3a"
             ],
             [
              0.8888888888888888,
              "#fdca26"
             ],
             [
              1,
              "#f0f921"
             ]
            ],
            "type": "histogram2d"
           }
          ],
          "histogram2dcontour": [
           {
            "colorbar": {
             "outlinewidth": 0,
             "ticks": ""
            },
            "colorscale": [
             [
              0,
              "#0d0887"
             ],
             [
              0.1111111111111111,
              "#46039f"
             ],
             [
              0.2222222222222222,
              "#7201a8"
             ],
             [
              0.3333333333333333,
              "#9c179e"
             ],
             [
              0.4444444444444444,
              "#bd3786"
             ],
             [
              0.5555555555555556,
              "#d8576b"
             ],
             [
              0.6666666666666666,
              "#ed7953"
             ],
             [
              0.7777777777777778,
              "#fb9f3a"
             ],
             [
              0.8888888888888888,
              "#fdca26"
             ],
             [
              1,
              "#f0f921"
             ]
            ],
            "type": "histogram2dcontour"
           }
          ],
          "mesh3d": [
           {
            "colorbar": {
             "outlinewidth": 0,
             "ticks": ""
            },
            "type": "mesh3d"
           }
          ],
          "parcoords": [
           {
            "line": {
             "colorbar": {
              "outlinewidth": 0,
              "ticks": ""
             }
            },
            "type": "parcoords"
           }
          ],
          "pie": [
           {
            "automargin": true,
            "type": "pie"
           }
          ],
          "scatter": [
           {
            "fillpattern": {
             "fillmode": "overlay",
             "size": 10,
             "solidity": 0.2
            },
            "type": "scatter"
           }
          ],
          "scatter3d": [
           {
            "line": {
             "colorbar": {
              "outlinewidth": 0,
              "ticks": ""
             }
            },
            "marker": {
             "colorbar": {
              "outlinewidth": 0,
              "ticks": ""
             }
            },
            "type": "scatter3d"
           }
          ],
          "scattercarpet": [
           {
            "marker": {
             "colorbar": {
              "outlinewidth": 0,
              "ticks": ""
             }
            },
            "type": "scattercarpet"
           }
          ],
          "scattergeo": [
           {
            "marker": {
             "colorbar": {
              "outlinewidth": 0,
              "ticks": ""
             }
            },
            "type": "scattergeo"
           }
          ],
          "scattergl": [
           {
            "marker": {
             "colorbar": {
              "outlinewidth": 0,
              "ticks": ""
             }
            },
            "type": "scattergl"
           }
          ],
          "scattermapbox": [
           {
            "marker": {
             "colorbar": {
              "outlinewidth": 0,
              "ticks": ""
             }
            },
            "type": "scattermapbox"
           }
          ],
          "scatterpolar": [
           {
            "marker": {
             "colorbar": {
              "outlinewidth": 0,
              "ticks": ""
             }
            },
            "type": "scatterpolar"
           }
          ],
          "scatterpolargl": [
           {
            "marker": {
             "colorbar": {
              "outlinewidth": 0,
              "ticks": ""
             }
            },
            "type": "scatterpolargl"
           }
          ],
          "scatterternary": [
           {
            "marker": {
             "colorbar": {
              "outlinewidth": 0,
              "ticks": ""
             }
            },
            "type": "scatterternary"
           }
          ],
          "surface": [
           {
            "colorbar": {
             "outlinewidth": 0,
             "ticks": ""
            },
            "colorscale": [
             [
              0,
              "#0d0887"
             ],
             [
              0.1111111111111111,
              "#46039f"
             ],
             [
              0.2222222222222222,
              "#7201a8"
             ],
             [
              0.3333333333333333,
              "#9c179e"
             ],
             [
              0.4444444444444444,
              "#bd3786"
             ],
             [
              0.5555555555555556,
              "#d8576b"
             ],
             [
              0.6666666666666666,
              "#ed7953"
             ],
             [
              0.7777777777777778,
              "#fb9f3a"
             ],
             [
              0.8888888888888888,
              "#fdca26"
             ],
             [
              1,
              "#f0f921"
             ]
            ],
            "type": "surface"
           }
          ],
          "table": [
           {
            "cells": {
             "fill": {
              "color": "#EBF0F8"
             },
             "line": {
              "color": "white"
             }
            },
            "header": {
             "fill": {
              "color": "#C8D4E3"
             },
             "line": {
              "color": "white"
             }
            },
            "type": "table"
           }
          ]
         },
         "layout": {
          "annotationdefaults": {
           "arrowcolor": "#2a3f5f",
           "arrowhead": 0,
           "arrowwidth": 1
          },
          "autotypenumbers": "strict",
          "coloraxis": {
           "colorbar": {
            "outlinewidth": 0,
            "ticks": ""
           }
          },
          "colorscale": {
           "diverging": [
            [
             0,
             "#8e0152"
            ],
            [
             0.1,
             "#c51b7d"
            ],
            [
             0.2,
             "#de77ae"
            ],
            [
             0.3,
             "#f1b6da"
            ],
            [
             0.4,
             "#fde0ef"
            ],
            [
             0.5,
             "#f7f7f7"
            ],
            [
             0.6,
             "#e6f5d0"
            ],
            [
             0.7,
             "#b8e186"
            ],
            [
             0.8,
             "#7fbc41"
            ],
            [
             0.9,
             "#4d9221"
            ],
            [
             1,
             "#276419"
            ]
           ],
           "sequential": [
            [
             0,
             "#0d0887"
            ],
            [
             0.1111111111111111,
             "#46039f"
            ],
            [
             0.2222222222222222,
             "#7201a8"
            ],
            [
             0.3333333333333333,
             "#9c179e"
            ],
            [
             0.4444444444444444,
             "#bd3786"
            ],
            [
             0.5555555555555556,
             "#d8576b"
            ],
            [
             0.6666666666666666,
             "#ed7953"
            ],
            [
             0.7777777777777778,
             "#fb9f3a"
            ],
            [
             0.8888888888888888,
             "#fdca26"
            ],
            [
             1,
             "#f0f921"
            ]
           ],
           "sequentialminus": [
            [
             0,
             "#0d0887"
            ],
            [
             0.1111111111111111,
             "#46039f"
            ],
            [
             0.2222222222222222,
             "#7201a8"
            ],
            [
             0.3333333333333333,
             "#9c179e"
            ],
            [
             0.4444444444444444,
             "#bd3786"
            ],
            [
             0.5555555555555556,
             "#d8576b"
            ],
            [
             0.6666666666666666,
             "#ed7953"
            ],
            [
             0.7777777777777778,
             "#fb9f3a"
            ],
            [
             0.8888888888888888,
             "#fdca26"
            ],
            [
             1,
             "#f0f921"
            ]
           ]
          },
          "colorway": [
           "#636efa",
           "#EF553B",
           "#00cc96",
           "#ab63fa",
           "#FFA15A",
           "#19d3f3",
           "#FF6692",
           "#B6E880",
           "#FF97FF",
           "#FECB52"
          ],
          "font": {
           "color": "#2a3f5f"
          },
          "geo": {
           "bgcolor": "white",
           "lakecolor": "white",
           "landcolor": "#E5ECF6",
           "showlakes": true,
           "showland": true,
           "subunitcolor": "white"
          },
          "hoverlabel": {
           "align": "left"
          },
          "hovermode": "closest",
          "mapbox": {
           "style": "light"
          },
          "paper_bgcolor": "white",
          "plot_bgcolor": "#E5ECF6",
          "polar": {
           "angularaxis": {
            "gridcolor": "white",
            "linecolor": "white",
            "ticks": ""
           },
           "bgcolor": "#E5ECF6",
           "radialaxis": {
            "gridcolor": "white",
            "linecolor": "white",
            "ticks": ""
           }
          },
          "scene": {
           "xaxis": {
            "backgroundcolor": "#E5ECF6",
            "gridcolor": "white",
            "gridwidth": 2,
            "linecolor": "white",
            "showbackground": true,
            "ticks": "",
            "zerolinecolor": "white"
           },
           "yaxis": {
            "backgroundcolor": "#E5ECF6",
            "gridcolor": "white",
            "gridwidth": 2,
            "linecolor": "white",
            "showbackground": true,
            "ticks": "",
            "zerolinecolor": "white"
           },
           "zaxis": {
            "backgroundcolor": "#E5ECF6",
            "gridcolor": "white",
            "gridwidth": 2,
            "linecolor": "white",
            "showbackground": true,
            "ticks": "",
            "zerolinecolor": "white"
           }
          },
          "shapedefaults": {
           "line": {
            "color": "#2a3f5f"
           }
          },
          "ternary": {
           "aaxis": {
            "gridcolor": "white",
            "linecolor": "white",
            "ticks": ""
           },
           "baxis": {
            "gridcolor": "white",
            "linecolor": "white",
            "ticks": ""
           },
           "bgcolor": "#E5ECF6",
           "caxis": {
            "gridcolor": "white",
            "linecolor": "white",
            "ticks": ""
           }
          },
          "title": {
           "x": 0.05
          },
          "xaxis": {
           "automargin": true,
           "gridcolor": "white",
           "linecolor": "white",
           "ticks": "",
           "title": {
            "standoff": 15
           },
           "zerolinecolor": "white",
           "zerolinewidth": 2
          },
          "yaxis": {
           "automargin": true,
           "gridcolor": "white",
           "linecolor": "white",
           "ticks": "",
           "title": {
            "standoff": 15
           },
           "zerolinecolor": "white",
           "zerolinewidth": 2
          }
         }
        },
        "title": {
         "text": "Senadores com maiores despesas em 2018"
        },
        "xaxis": {
         "anchor": "y",
         "domain": [
          0,
          1
         ],
         "title": {
          "text": "SENADOR"
         }
        },
        "yaxis": {
         "anchor": "x",
         "domain": [
          0,
          1
         ],
         "title": {
          "text": "GASTOS"
         }
        }
       }
      },
      "text/html": [
       "<div>                            <div id=\"f8fcdd03-01cf-46ac-b082-13edce5861f6\" class=\"plotly-graph-div\" style=\"height:525px; width:100%;\"></div>            <script type=\"text/javascript\">                require([\"plotly\"], function(Plotly) {                    window.PLOTLYENV=window.PLOTLYENV || {};                                    if (document.getElementById(\"f8fcdd03-01cf-46ac-b082-13edce5861f6\")) {                    Plotly.newPlot(                        \"f8fcdd03-01cf-46ac-b082-13edce5861f6\",                        [{\"alignmentgroup\":\"True\",\"hovertemplate\":\"SENADOR=%{x}<br>GASTOS=%{y}<extra></extra>\",\"legendgroup\":\"\",\"marker\":{\"color\":\"#636efa\",\"pattern\":{\"shape\":\"\"}},\"name\":\"\",\"offsetgroup\":\"\",\"orientation\":\"v\",\"showlegend\":false,\"textposition\":\"outside\",\"texttemplate\":\"%{y:.2s}\",\"x\":[\"VANESSA GRAZZIOTIN\",\"WALDEMIR MOKA\",\"ANA AM\\u00c9LIA\",\"JOS\\u00c9 PIMENTEL\",\"JORGE VIANA\",\"ROBERTO REQUI\\u00c3O\",\"F\\u00c1TIMA BEZERRA\",\"EDUARDO AMORIM\",\"HUMBERTO COSTA\",\"RONALDO CAIADO\",\"GLEISI HOFFMANN\",\"L\\u00cdDICE DA MATA\",\"FERNANDO BEZERRA COELHO\",\"ARMANDO MONTEIRO\",\"PEDRO CHAVES DOS SANTOS FILHO\",\"JOS\\u00c9 MEDEIROS\",\"WELLINGTON FAGUNDES\",\"JOS\\u00c9 SERRA\",\"PAULO BAUER\",\"EDUARDO LOPES\"],\"xaxis\":\"x\",\"y\":[87096.0,91229.0,93892.0,93948.0,94948.0,95181.0,96314.0,101453.0,111989.0,112724.0,116026.0,124131.0,129131.0,131992.0,141979.0,143966.0,145133.0,156333.0,166204.0,171056.0],\"yaxis\":\"y\",\"type\":\"bar\",\"textfont\":{\"size\":12},\"cliponaxis\":false,\"textangle\":0}],                        {\"template\":{\"data\":{\"histogram2dcontour\":[{\"type\":\"histogram2dcontour\",\"colorbar\":{\"outlinewidth\":0,\"ticks\":\"\"},\"colorscale\":[[0.0,\"#0d0887\"],[0.1111111111111111,\"#46039f\"],[0.2222222222222222,\"#7201a8\"],[0.3333333333333333,\"#9c179e\"],[0.4444444444444444,\"#bd3786\"],[0.5555555555555556,\"#d8576b\"],[0.6666666666666666,\"#ed7953\"],[0.7777777777777778,\"#fb9f3a\"],[0.8888888888888888,\"#fdca26\"],[1.0,\"#f0f921\"]]}],\"choropleth\":[{\"type\":\"choropleth\",\"colorbar\":{\"outlinewidth\":0,\"ticks\":\"\"}}],\"histogram2d\":[{\"type\":\"histogram2d\",\"colorbar\":{\"outlinewidth\":0,\"ticks\":\"\"},\"colorscale\":[[0.0,\"#0d0887\"],[0.1111111111111111,\"#46039f\"],[0.2222222222222222,\"#7201a8\"],[0.3333333333333333,\"#9c179e\"],[0.4444444444444444,\"#bd3786\"],[0.5555555555555556,\"#d8576b\"],[0.6666666666666666,\"#ed7953\"],[0.7777777777777778,\"#fb9f3a\"],[0.8888888888888888,\"#fdca26\"],[1.0,\"#f0f921\"]]}],\"heatmap\":[{\"type\":\"heatmap\",\"colorbar\":{\"outlinewidth\":0,\"ticks\":\"\"},\"colorscale\":[[0.0,\"#0d0887\"],[0.1111111111111111,\"#46039f\"],[0.2222222222222222,\"#7201a8\"],[0.3333333333333333,\"#9c179e\"],[0.4444444444444444,\"#bd3786\"],[0.5555555555555556,\"#d8576b\"],[0.6666666666666666,\"#ed7953\"],[0.7777777777777778,\"#fb9f3a\"],[0.8888888888888888,\"#fdca26\"],[1.0,\"#f0f921\"]]}],\"heatmapgl\":[{\"type\":\"heatmapgl\",\"colorbar\":{\"outlinewidth\":0,\"ticks\":\"\"},\"colorscale\":[[0.0,\"#0d0887\"],[0.1111111111111111,\"#46039f\"],[0.2222222222222222,\"#7201a8\"],[0.3333333333333333,\"#9c179e\"],[0.4444444444444444,\"#bd3786\"],[0.5555555555555556,\"#d8576b\"],[0.6666666666666666,\"#ed7953\"],[0.7777777777777778,\"#fb9f3a\"],[0.8888888888888888,\"#fdca26\"],[1.0,\"#f0f921\"]]}],\"contourcarpet\":[{\"type\":\"contourcarpet\",\"colorbar\":{\"outlinewidth\":0,\"ticks\":\"\"}}],\"contour\":[{\"type\":\"contour\",\"colorbar\":{\"outlinewidth\":0,\"ticks\":\"\"},\"colorscale\":[[0.0,\"#0d0887\"],[0.1111111111111111,\"#46039f\"],[0.2222222222222222,\"#7201a8\"],[0.3333333333333333,\"#9c179e\"],[0.4444444444444444,\"#bd3786\"],[0.5555555555555556,\"#d8576b\"],[0.6666666666666666,\"#ed7953\"],[0.7777777777777778,\"#fb9f3a\"],[0.8888888888888888,\"#fdca26\"],[1.0,\"#f0f921\"]]}],\"surface\":[{\"type\":\"surface\",\"colorbar\":{\"outlinewidth\":0,\"ticks\":\"\"},\"colorscale\":[[0.0,\"#0d0887\"],[0.1111111111111111,\"#46039f\"],[0.2222222222222222,\"#7201a8\"],[0.3333333333333333,\"#9c179e\"],[0.4444444444444444,\"#bd3786\"],[0.5555555555555556,\"#d8576b\"],[0.6666666666666666,\"#ed7953\"],[0.7777777777777778,\"#fb9f3a\"],[0.8888888888888888,\"#fdca26\"],[1.0,\"#f0f921\"]]}],\"mesh3d\":[{\"type\":\"mesh3d\",\"colorbar\":{\"outlinewidth\":0,\"ticks\":\"\"}}],\"scatter\":[{\"fillpattern\":{\"fillmode\":\"overlay\",\"size\":10,\"solidity\":0.2},\"type\":\"scatter\"}],\"parcoords\":[{\"type\":\"parcoords\",\"line\":{\"colorbar\":{\"outlinewidth\":0,\"ticks\":\"\"}}}],\"scatterpolargl\":[{\"type\":\"scatterpolargl\",\"marker\":{\"colorbar\":{\"outlinewidth\":0,\"ticks\":\"\"}}}],\"bar\":[{\"error_x\":{\"color\":\"#2a3f5f\"},\"error_y\":{\"color\":\"#2a3f5f\"},\"marker\":{\"line\":{\"color\":\"#E5ECF6\",\"width\":0.5},\"pattern\":{\"fillmode\":\"overlay\",\"size\":10,\"solidity\":0.2}},\"type\":\"bar\"}],\"scattergeo\":[{\"type\":\"scattergeo\",\"marker\":{\"colorbar\":{\"outlinewidth\":0,\"ticks\":\"\"}}}],\"scatterpolar\":[{\"type\":\"scatterpolar\",\"marker\":{\"colorbar\":{\"outlinewidth\":0,\"ticks\":\"\"}}}],\"histogram\":[{\"marker\":{\"pattern\":{\"fillmode\":\"overlay\",\"size\":10,\"solidity\":0.2}},\"type\":\"histogram\"}],\"scattergl\":[{\"type\":\"scattergl\",\"marker\":{\"colorbar\":{\"outlinewidth\":0,\"ticks\":\"\"}}}],\"scatter3d\":[{\"type\":\"scatter3d\",\"line\":{\"colorbar\":{\"outlinewidth\":0,\"ticks\":\"\"}},\"marker\":{\"colorbar\":{\"outlinewidth\":0,\"ticks\":\"\"}}}],\"scattermapbox\":[{\"type\":\"scattermapbox\",\"marker\":{\"colorbar\":{\"outlinewidth\":0,\"ticks\":\"\"}}}],\"scatterternary\":[{\"type\":\"scatterternary\",\"marker\":{\"colorbar\":{\"outlinewidth\":0,\"ticks\":\"\"}}}],\"scattercarpet\":[{\"type\":\"scattercarpet\",\"marker\":{\"colorbar\":{\"outlinewidth\":0,\"ticks\":\"\"}}}],\"carpet\":[{\"aaxis\":{\"endlinecolor\":\"#2a3f5f\",\"gridcolor\":\"white\",\"linecolor\":\"white\",\"minorgridcolor\":\"white\",\"startlinecolor\":\"#2a3f5f\"},\"baxis\":{\"endlinecolor\":\"#2a3f5f\",\"gridcolor\":\"white\",\"linecolor\":\"white\",\"minorgridcolor\":\"white\",\"startlinecolor\":\"#2a3f5f\"},\"type\":\"carpet\"}],\"table\":[{\"cells\":{\"fill\":{\"color\":\"#EBF0F8\"},\"line\":{\"color\":\"white\"}},\"header\":{\"fill\":{\"color\":\"#C8D4E3\"},\"line\":{\"color\":\"white\"}},\"type\":\"table\"}],\"barpolar\":[{\"marker\":{\"line\":{\"color\":\"#E5ECF6\",\"width\":0.5},\"pattern\":{\"fillmode\":\"overlay\",\"size\":10,\"solidity\":0.2}},\"type\":\"barpolar\"}],\"pie\":[{\"automargin\":true,\"type\":\"pie\"}]},\"layout\":{\"autotypenumbers\":\"strict\",\"colorway\":[\"#636efa\",\"#EF553B\",\"#00cc96\",\"#ab63fa\",\"#FFA15A\",\"#19d3f3\",\"#FF6692\",\"#B6E880\",\"#FF97FF\",\"#FECB52\"],\"font\":{\"color\":\"#2a3f5f\"},\"hovermode\":\"closest\",\"hoverlabel\":{\"align\":\"left\"},\"paper_bgcolor\":\"white\",\"plot_bgcolor\":\"#E5ECF6\",\"polar\":{\"bgcolor\":\"#E5ECF6\",\"angularaxis\":{\"gridcolor\":\"white\",\"linecolor\":\"white\",\"ticks\":\"\"},\"radialaxis\":{\"gridcolor\":\"white\",\"linecolor\":\"white\",\"ticks\":\"\"}},\"ternary\":{\"bgcolor\":\"#E5ECF6\",\"aaxis\":{\"gridcolor\":\"white\",\"linecolor\":\"white\",\"ticks\":\"\"},\"baxis\":{\"gridcolor\":\"white\",\"linecolor\":\"white\",\"ticks\":\"\"},\"caxis\":{\"gridcolor\":\"white\",\"linecolor\":\"white\",\"ticks\":\"\"}},\"coloraxis\":{\"colorbar\":{\"outlinewidth\":0,\"ticks\":\"\"}},\"colorscale\":{\"sequential\":[[0.0,\"#0d0887\"],[0.1111111111111111,\"#46039f\"],[0.2222222222222222,\"#7201a8\"],[0.3333333333333333,\"#9c179e\"],[0.4444444444444444,\"#bd3786\"],[0.5555555555555556,\"#d8576b\"],[0.6666666666666666,\"#ed7953\"],[0.7777777777777778,\"#fb9f3a\"],[0.8888888888888888,\"#fdca26\"],[1.0,\"#f0f921\"]],\"sequentialminus\":[[0.0,\"#0d0887\"],[0.1111111111111111,\"#46039f\"],[0.2222222222222222,\"#7201a8\"],[0.3333333333333333,\"#9c179e\"],[0.4444444444444444,\"#bd3786\"],[0.5555555555555556,\"#d8576b\"],[0.6666666666666666,\"#ed7953\"],[0.7777777777777778,\"#fb9f3a\"],[0.8888888888888888,\"#fdca26\"],[1.0,\"#f0f921\"]],\"diverging\":[[0,\"#8e0152\"],[0.1,\"#c51b7d\"],[0.2,\"#de77ae\"],[0.3,\"#f1b6da\"],[0.4,\"#fde0ef\"],[0.5,\"#f7f7f7\"],[0.6,\"#e6f5d0\"],[0.7,\"#b8e186\"],[0.8,\"#7fbc41\"],[0.9,\"#4d9221\"],[1,\"#276419\"]]},\"xaxis\":{\"gridcolor\":\"white\",\"linecolor\":\"white\",\"ticks\":\"\",\"title\":{\"standoff\":15},\"zerolinecolor\":\"white\",\"automargin\":true,\"zerolinewidth\":2},\"yaxis\":{\"gridcolor\":\"white\",\"linecolor\":\"white\",\"ticks\":\"\",\"title\":{\"standoff\":15},\"zerolinecolor\":\"white\",\"automargin\":true,\"zerolinewidth\":2},\"scene\":{\"xaxis\":{\"backgroundcolor\":\"#E5ECF6\",\"gridcolor\":\"white\",\"linecolor\":\"white\",\"showbackground\":true,\"ticks\":\"\",\"zerolinecolor\":\"white\",\"gridwidth\":2},\"yaxis\":{\"backgroundcolor\":\"#E5ECF6\",\"gridcolor\":\"white\",\"linecolor\":\"white\",\"showbackground\":true,\"ticks\":\"\",\"zerolinecolor\":\"white\",\"gridwidth\":2},\"zaxis\":{\"backgroundcolor\":\"#E5ECF6\",\"gridcolor\":\"white\",\"linecolor\":\"white\",\"showbackground\":true,\"ticks\":\"\",\"zerolinecolor\":\"white\",\"gridwidth\":2}},\"shapedefaults\":{\"line\":{\"color\":\"#2a3f5f\"}},\"annotationdefaults\":{\"arrowcolor\":\"#2a3f5f\",\"arrowhead\":0,\"arrowwidth\":1},\"geo\":{\"bgcolor\":\"white\",\"landcolor\":\"#E5ECF6\",\"subunitcolor\":\"white\",\"showland\":true,\"showlakes\":true,\"lakecolor\":\"white\"},\"title\":{\"x\":0.05},\"mapbox\":{\"style\":\"light\"}}},\"xaxis\":{\"anchor\":\"y\",\"domain\":[0.0,1.0],\"title\":{\"text\":\"SENADOR\"}},\"yaxis\":{\"anchor\":\"x\",\"domain\":[0.0,1.0],\"title\":{\"text\":\"GASTOS\"}},\"legend\":{\"tracegroupgap\":0},\"title\":{\"text\":\"Senadores com maiores despesas em 2018\"},\"barmode\":\"relative\"},                        {\"responsive\": true}                    ).then(function(){\n",
       "                            \n",
       "var gd = document.getElementById('f8fcdd03-01cf-46ac-b082-13edce5861f6');\n",
       "var x = new MutationObserver(function (mutations, observer) {{\n",
       "        var display = window.getComputedStyle(gd).display;\n",
       "        if (!display || display === 'none') {{\n",
       "            console.log([gd, 'removed!']);\n",
       "            Plotly.purge(gd);\n",
       "            observer.disconnect();\n",
       "        }}\n",
       "}});\n",
       "\n",
       "// Listen for the removal of the full notebook cells\n",
       "var notebookContainer = gd.closest('#notebook-container');\n",
       "if (notebookContainer) {{\n",
       "    x.observe(notebookContainer, {childList: true});\n",
       "}}\n",
       "\n",
       "// Listen for the clearing of the current output cell\n",
       "var outputEl = gd.closest('.output');\n",
       "if (outputEl) {{\n",
       "    x.observe(outputEl, {childList: true});\n",
       "}}\n",
       "\n",
       "                        })                };                });            </script>        </div>"
      ]
     },
     "metadata": {},
     "output_type": "display_data"
    }
   ],
   "source": [
    "import plotly.express as px\n",
    "\n",
    "fig = px.bar(df.tail(20), y='GASTOS', x='SENADOR', text_auto='.2s',\n",
    "            title=\"Senadores com maiores despesas em 2018\")\n",
    "fig.update_traces(textfont_size=12, textangle=0, textposition=\"outside\", cliponaxis=False)\n",
    "fig.show()"
   ]
  }
 ],
 "metadata": {
  "kernelspec": {
   "display_name": "Python 3 (ipykernel)",
   "language": "python",
   "name": "python3"
  },
  "language_info": {
   "codemirror_mode": {
    "name": "ipython",
    "version": 3
   },
   "file_extension": ".py",
   "mimetype": "text/x-python",
   "name": "python",
   "nbconvert_exporter": "python",
   "pygments_lexer": "ipython3",
   "version": "3.9.13"
  }
 },
 "nbformat": 4,
 "nbformat_minor": 5
}
